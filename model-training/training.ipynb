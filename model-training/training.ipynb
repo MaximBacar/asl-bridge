{
 "cells": [
  {
   "cell_type": "markdown",
   "metadata": {},
   "source": [
    "# Imports"
   ]
  },
  {
   "cell_type": "code",
   "execution_count": 25,
   "metadata": {},
   "outputs": [],
   "source": [
    "import  tensorflow                  as      tf\n",
    "import  numpy                       as      np\n",
    "import  os\n",
    "from    sklearn.model_selection     import  train_test_split\n",
    "from    tensorflow.keras.utils      import  to_categorical\n",
    "\n",
    "from    tensorflow.keras.models     import  Sequential\n",
    "from    tensorflow.keras.layers     import  LSTM, Dense\n",
    "from    tensorflow.keras.callbacks  import  TensorBoard"
   ]
  },
  {
   "cell_type": "markdown",
   "metadata": {},
   "source": [
    "## Constants"
   ]
  },
  {
   "cell_type": "code",
   "execution_count": 29,
   "metadata": {},
   "outputs": [],
   "source": [
    "SAMPLES_PER_WORD = 60\n",
    "FRAMES_PER_SAMPLE = 30\n",
    "\n",
    "SAMPLES_PATH = \"/Volumes/SSD/collection/\""
   ]
  },
  {
   "cell_type": "code",
   "execution_count": 34,
   "metadata": {},
   "outputs": [
    {
     "data": {
      "text/plain": [
       "{'hello': 0, 'my': 1}"
      ]
     },
     "execution_count": 34,
     "metadata": {},
     "output_type": "execute_result"
    }
   ],
   "source": [
    "words = np.array(['hello', 'my'])\n",
    "words_path = {\n",
    "    'hello' : 1,\n",
    "    'my' : 5\n",
    "    }\n",
    "labels_map = {label:num for num, label in enumerate(words)}\n",
    "labels_map"
   ]
  },
  {
   "cell_type": "code",
   "execution_count": 39,
   "metadata": {},
   "outputs": [],
   "source": [
    "a = np.load(\"/Volumes/SSD/collection/5/5_4_24.npy\")\n",
    "a\n",
    "len(a)\n",
    "\n",
    "samples, labels = [], []\n",
    "for word in words:\n",
    "    for sample in range(SAMPLES_PER_WORD):\n",
    "        sample_data = []\n",
    "        for frame in range(FRAMES_PER_SAMPLE):\n",
    "            path        = os.path.join(SAMPLES_PATH, f'{words_path[word]}', f'{words_path[word]}_{sample}_{frame}.npy')\n",
    "            frame_data  = np.load(path)\n",
    "            sample_data.append(frame_data)\n",
    "        samples.append(sample_data)\n",
    "        labels.append(labels_map[word])"
   ]
  },
  {
   "cell_type": "code",
   "execution_count": 51,
   "metadata": {},
   "outputs": [],
   "source": [
    "X = np.array(samples)"
   ]
  },
  {
   "cell_type": "code",
   "execution_count": 46,
   "metadata": {},
   "outputs": [],
   "source": [
    "y = to_categorical(labels).astype(int)"
   ]
  },
  {
   "cell_type": "code",
   "execution_count": 47,
   "metadata": {},
   "outputs": [],
   "source": [
    "X_train, X_test, y_train, y_test = train_test_split(X, y, test_size=0.05)"
   ]
  },
  {
   "cell_type": "markdown",
   "metadata": {},
   "source": [
    "# Model"
   ]
  },
  {
   "cell_type": "code",
   "execution_count": 50,
   "metadata": {},
   "outputs": [
    {
     "name": "stderr",
     "output_type": "stream",
     "text": [
      "/Library/Frameworks/Python.framework/Versions/3.11/lib/python3.11/site-packages/keras/src/layers/rnn/rnn.py:200: UserWarning: Do not pass an `input_shape`/`input_dim` argument to a layer. When using Sequential models, prefer using an `Input(shape)` object as the first layer in the model instead.\n",
      "  super().__init__(**kwargs)\n"
     ]
    }
   ],
   "source": [
    "model           = Sequential()\n",
    "\n",
    "lstm_model_1    = LSTM(     64,     return_sequences = True,    activation = \"relu\", input_shape=(30, 1629) )\n",
    "lstm_model_2    = LSTM(     128,    return_sequences = True,    activation = \"relu\" )\n",
    "lstm_model_3    = LSTM(     64,     return_sequences = False,   activation = \"relu\" )\n",
    "\n",
    "dense_model_1   = Dense(    64,                                 activation = \"relu\" )\n",
    "dense_model_2   = Dense(    32,                                 activation = \"relu\" )\n",
    "dense_model_3   = Dense(    words.shape[0],                     activation = \"softmax\" )\n",
    "\n",
    "model.add( lstm_model_1 )\n",
    "model.add( lstm_model_2 )\n",
    "model.add( lstm_model_3 )\n",
    "\n",
    "model.add( dense_model_1 )\n",
    "model.add( dense_model_2 )\n",
    "model.add( dense_model_3 )"
   ]
  },
  {
   "cell_type": "code",
   "execution_count": 52,
   "metadata": {},
   "outputs": [],
   "source": [
    "model.compile(optimizer='Adam', loss='categorical_crossentropy', metrics=['categorical_accuracy'])"
   ]
  },
  {
   "cell_type": "code",
   "execution_count": null,
   "metadata": {},
   "outputs": [],
   "source": [
    "model.fit(X_train, y_train, epochs=2000)"
   ]
  }
 ],
 "metadata": {
  "kernelspec": {
   "display_name": "Python 3",
   "language": "python",
   "name": "python3"
  },
  "language_info": {
   "codemirror_mode": {
    "name": "ipython",
    "version": 3
   },
   "file_extension": ".py",
   "mimetype": "text/x-python",
   "name": "python",
   "nbconvert_exporter": "python",
   "pygments_lexer": "ipython3",
   "version": "3.11.5"
  }
 },
 "nbformat": 4,
 "nbformat_minor": 2
}
